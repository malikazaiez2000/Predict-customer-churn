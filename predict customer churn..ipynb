{
 "cells": [
  {
   "cell_type": "markdown",
   "metadata": {},
   "source": [
    "** Évaluer la structure des données** <br/>\n",
    "Dans cette section, nous allons examiner l'ensemble de données en général et chaque colonne en détail pour mieux comprendre les données d'entrée afin d'agréger les champs si nécessaire.\n",
    "À partir des méthodes de tête et de colonne, nous avons une idée qu'il s'agit d'un ensemble de données de désabonnement des clients de télécommunications où chaque enregistrement implique la nature de l'abonnement, l'ancienneté, la fréquence de paiement et le désabonnement (signifiant leur statut actuel)."
   ]
  },
  {
   "cell_type": "markdown",
   "metadata": {},
   "source": [
    "# Section A: Prétraitement des données:\n",
    "**Étape 0 : Redémarrez la session** <br/>\n",
    "Supprimez toutes les variables temporaires de l'environnement de développement interactif avant de commencer à coder.\n",
    "\n",
    "\n"
   ]
  },
  {
   "cell_type": "code",
   "execution_count": 7,
   "metadata": {},
   "outputs": [
    {
     "name": "stdout",
     "output_type": "stream",
     "text": [
      "\f",
      "\n"
     ]
    }
   ],
   "source": [
    "try:\n",
    "    from IPython import get_ipython\n",
    "    get_ipython().magic('clear')\n",
    "    get_ipython().magic('reset -f')\n",
    "except:\n",
    "    pass\n"
   ]
  },
  {
   "cell_type": "markdown",
   "metadata": {},
   "source": [
    "**Étape 1 : Importer les bibliothèques pertinentes**  <br/>\n",
    "importez toutes les bibliothèques Python pertinentes pour créer des algorithmes d'apprentissage automatique supervisé.\n"
   ]
  },
  {
   "cell_type": "code",
   "execution_count": 8,
   "metadata": {},
   "outputs": [],
   "source": [
    "import numpy as np\n",
    "import matplotlib.pyplot as plt\n",
    "import pandas as pd\n",
    "from scipy.stats import norm, skew\n",
    "from scipy import stats\n",
    "import statsmodels.api as sm\n",
    "# sklearn modules for data preprocessing:\n",
    "from sklearn.impute import SimpleImputer\n",
    "from sklearn.preprocessing import LabelEncoder, OneHotEncoder\n",
    "from sklearn.compose import ColumnTransformer\n",
    "from sklearn.preprocessing import OneHotEncoder\n",
    "from sklearn.model_selection import train_test_split\n",
    "from sklearn.preprocessing import StandardScaler\n",
    "#sklearn modules for Model Selection:\n",
    "from sklearn import svm, tree, linear_model, neighbors\n",
    "from sklearn import naive_bayes, ensemble, discriminant_analysis, gaussian_process\n",
    "from sklearn.neighbors import KNeighborsClassifier\n",
    "from sklearn.discriminant_analysis import LinearDiscriminantAnalysis\n",
    "from xgboost import XGBClassifier\n",
    "from sklearn.linear_model import LogisticRegression\n",
    "from sklearn.svm import SVC\n",
    "from sklearn.neighbors import KNeighborsClassifier\n",
    "from sklearn.naive_bayes import GaussianNB\n",
    "from sklearn.tree import DecisionTreeClassifier\n",
    "from sklearn.ensemble import RandomForestClassifier\n",
    "#sklearn modules for Model Evaluation & Improvement:\n",
    "    \n",
    "from sklearn.metrics import confusion_matrix, accuracy_score \n",
    "from sklearn.metrics import f1_score, precision_score, recall_score, fbeta_score\n",
    "from statsmodels.stats.outliers_influence import variance_inflation_factor\n",
    "from sklearn.model_selection import cross_val_score\n",
    "from sklearn.model_selection import GridSearchCV\n",
    "from sklearn.model_selection import ShuffleSplit\n",
    "from sklearn.model_selection import KFold\n",
    "from sklearn import feature_selection\n",
    "from sklearn import model_selection\n",
    "from sklearn import metrics\n",
    "from sklearn.metrics import classification_report, precision_recall_curve\n",
    "from sklearn.metrics import auc, roc_auc_score, roc_curve\n",
    "from sklearn.metrics import make_scorer, recall_score, log_loss\n",
    "from sklearn.metrics import average_precision_score\n",
    "#Standard libraries for data visualization:\n",
    "import seaborn as sn\n",
    "from matplotlib import pyplot\n",
    "import matplotlib.pyplot as plt\n",
    "import matplotlib.pylab as pylab\n",
    "import matplotlib \n",
    "%matplotlib inline\n",
    "color = sn.color_palette()\n",
    "import matplotlib.ticker as mtick\n",
    "from IPython.display import display\n",
    "pd.options.display.max_columns = None\n",
    "from pandas.plotting import scatter_matrix\n",
    "from sklearn.metrics import roc_curve\n",
    "#Miscellaneous Utilitiy Libraries:\n",
    "    \n",
    "import random\n",
    "import os\n",
    "import re\n",
    "import sys\n",
    "import timeit\n",
    "import string\n",
    "import time\n",
    "from datetime import datetime\n",
    "from time import time\n",
    "from dateutil.parser import parse\n",
    "import joblib"
   ]
  },
  {
   "cell_type": "markdown",
   "metadata": {},
   "source": [
    "**Étape 2 : Configurez le répertoire de travail actuel**"
   ]
  },
  {
   "cell_type": "code",
   "execution_count": 9,
   "metadata": {},
   "outputs": [],
   "source": [
    "os.chdir(r\"C:/Users/Msi/machine learning/Predict Customer Churn/\")"
   ]
  },
  {
   "cell_type": "markdown",
   "metadata": {},
   "source": [
    "**Étape 3 : Importer l'ensemble de données**  <br/>\n",
    "Chargeons l'ensemble de données d'entrée dans le bloc-notes python dans le répertoire de travail actuel."
   ]
  },
  {
   "cell_type": "code",
   "execution_count": 10,
   "metadata": {},
   "outputs": [],
   "source": [
    "dataset = pd.read_csv('1.Input/customer_churn_data.csv')"
   ]
  },
  {
   "cell_type": "code",
   "execution_count": 11,
   "metadata": {
    "scrolled": false
   },
   "outputs": [
    {
     "data": {
      "text/html": [
       "<div>\n",
       "<style scoped>\n",
       "    .dataframe tbody tr th:only-of-type {\n",
       "        vertical-align: middle;\n",
       "    }\n",
       "\n",
       "    .dataframe tbody tr th {\n",
       "        vertical-align: top;\n",
       "    }\n",
       "\n",
       "    .dataframe thead th {\n",
       "        text-align: right;\n",
       "    }\n",
       "</style>\n",
       "<table border=\"1\" class=\"dataframe\">\n",
       "  <thead>\n",
       "    <tr style=\"text-align: right;\">\n",
       "      <th></th>\n",
       "      <th>customerID</th>\n",
       "      <th>gender</th>\n",
       "      <th>SeniorCitizen</th>\n",
       "      <th>Partner</th>\n",
       "      <th>Dependents</th>\n",
       "      <th>tenure</th>\n",
       "      <th>PhoneService</th>\n",
       "      <th>MultipleLines</th>\n",
       "      <th>InternetService</th>\n",
       "      <th>OnlineSecurity</th>\n",
       "      <th>OnlineBackup</th>\n",
       "      <th>DeviceProtection</th>\n",
       "      <th>TechSupport</th>\n",
       "      <th>StreamingTV</th>\n",
       "      <th>StreamingMovies</th>\n",
       "      <th>Contract</th>\n",
       "      <th>PaperlessBilling</th>\n",
       "      <th>PaymentMethod</th>\n",
       "      <th>MonthlyCharges</th>\n",
       "      <th>TotalCharges</th>\n",
       "      <th>Churn</th>\n",
       "    </tr>\n",
       "  </thead>\n",
       "  <tbody>\n",
       "    <tr>\n",
       "      <th>0</th>\n",
       "      <td>7590-VHVEG</td>\n",
       "      <td>Female</td>\n",
       "      <td>0</td>\n",
       "      <td>Yes</td>\n",
       "      <td>No</td>\n",
       "      <td>1</td>\n",
       "      <td>No</td>\n",
       "      <td>No phone service</td>\n",
       "      <td>DSL</td>\n",
       "      <td>No</td>\n",
       "      <td>Yes</td>\n",
       "      <td>No</td>\n",
       "      <td>No</td>\n",
       "      <td>No</td>\n",
       "      <td>No</td>\n",
       "      <td>Month-to-month</td>\n",
       "      <td>Yes</td>\n",
       "      <td>Electronic check</td>\n",
       "      <td>29.85</td>\n",
       "      <td>29.85</td>\n",
       "      <td>No</td>\n",
       "    </tr>\n",
       "    <tr>\n",
       "      <th>1</th>\n",
       "      <td>5575-GNVDE</td>\n",
       "      <td>Male</td>\n",
       "      <td>0</td>\n",
       "      <td>No</td>\n",
       "      <td>No</td>\n",
       "      <td>34</td>\n",
       "      <td>Yes</td>\n",
       "      <td>No</td>\n",
       "      <td>DSL</td>\n",
       "      <td>Yes</td>\n",
       "      <td>No</td>\n",
       "      <td>Yes</td>\n",
       "      <td>No</td>\n",
       "      <td>No</td>\n",
       "      <td>No</td>\n",
       "      <td>One year</td>\n",
       "      <td>No</td>\n",
       "      <td>Mailed check</td>\n",
       "      <td>56.95</td>\n",
       "      <td>1889.5</td>\n",
       "      <td>No</td>\n",
       "    </tr>\n",
       "    <tr>\n",
       "      <th>2</th>\n",
       "      <td>3668-QPYBK</td>\n",
       "      <td>Male</td>\n",
       "      <td>0</td>\n",
       "      <td>No</td>\n",
       "      <td>No</td>\n",
       "      <td>2</td>\n",
       "      <td>Yes</td>\n",
       "      <td>No</td>\n",
       "      <td>DSL</td>\n",
       "      <td>Yes</td>\n",
       "      <td>Yes</td>\n",
       "      <td>No</td>\n",
       "      <td>No</td>\n",
       "      <td>No</td>\n",
       "      <td>No</td>\n",
       "      <td>Month-to-month</td>\n",
       "      <td>Yes</td>\n",
       "      <td>Mailed check</td>\n",
       "      <td>53.85</td>\n",
       "      <td>108.15</td>\n",
       "      <td>Yes</td>\n",
       "    </tr>\n",
       "    <tr>\n",
       "      <th>3</th>\n",
       "      <td>7795-CFOCW</td>\n",
       "      <td>Male</td>\n",
       "      <td>0</td>\n",
       "      <td>No</td>\n",
       "      <td>No</td>\n",
       "      <td>45</td>\n",
       "      <td>No</td>\n",
       "      <td>No phone service</td>\n",
       "      <td>DSL</td>\n",
       "      <td>Yes</td>\n",
       "      <td>No</td>\n",
       "      <td>Yes</td>\n",
       "      <td>Yes</td>\n",
       "      <td>No</td>\n",
       "      <td>No</td>\n",
       "      <td>One year</td>\n",
       "      <td>No</td>\n",
       "      <td>Bank transfer (automatic)</td>\n",
       "      <td>42.30</td>\n",
       "      <td>1840.75</td>\n",
       "      <td>No</td>\n",
       "    </tr>\n",
       "    <tr>\n",
       "      <th>4</th>\n",
       "      <td>9237-HQITU</td>\n",
       "      <td>Female</td>\n",
       "      <td>0</td>\n",
       "      <td>No</td>\n",
       "      <td>No</td>\n",
       "      <td>2</td>\n",
       "      <td>Yes</td>\n",
       "      <td>No</td>\n",
       "      <td>Fiber optic</td>\n",
       "      <td>No</td>\n",
       "      <td>No</td>\n",
       "      <td>No</td>\n",
       "      <td>No</td>\n",
       "      <td>No</td>\n",
       "      <td>No</td>\n",
       "      <td>Month-to-month</td>\n",
       "      <td>Yes</td>\n",
       "      <td>Electronic check</td>\n",
       "      <td>70.70</td>\n",
       "      <td>151.65</td>\n",
       "      <td>Yes</td>\n",
       "    </tr>\n",
       "  </tbody>\n",
       "</table>\n",
       "</div>"
      ],
      "text/plain": [
       "   customerID  gender  SeniorCitizen Partner Dependents  tenure PhoneService  \\\n",
       "0  7590-VHVEG  Female              0     Yes         No       1           No   \n",
       "1  5575-GNVDE    Male              0      No         No      34          Yes   \n",
       "2  3668-QPYBK    Male              0      No         No       2          Yes   \n",
       "3  7795-CFOCW    Male              0      No         No      45           No   \n",
       "4  9237-HQITU  Female              0      No         No       2          Yes   \n",
       "\n",
       "      MultipleLines InternetService OnlineSecurity OnlineBackup  \\\n",
       "0  No phone service             DSL             No          Yes   \n",
       "1                No             DSL            Yes           No   \n",
       "2                No             DSL            Yes          Yes   \n",
       "3  No phone service             DSL            Yes           No   \n",
       "4                No     Fiber optic             No           No   \n",
       "\n",
       "  DeviceProtection TechSupport StreamingTV StreamingMovies        Contract  \\\n",
       "0               No          No          No              No  Month-to-month   \n",
       "1              Yes          No          No              No        One year   \n",
       "2               No          No          No              No  Month-to-month   \n",
       "3              Yes         Yes          No              No        One year   \n",
       "4               No          No          No              No  Month-to-month   \n",
       "\n",
       "  PaperlessBilling              PaymentMethod  MonthlyCharges TotalCharges  \\\n",
       "0              Yes           Electronic check           29.85        29.85   \n",
       "1               No               Mailed check           56.95       1889.5   \n",
       "2              Yes               Mailed check           53.85       108.15   \n",
       "3               No  Bank transfer (automatic)           42.30      1840.75   \n",
       "4              Yes           Electronic check           70.70       151.65   \n",
       "\n",
       "  Churn  \n",
       "0    No  \n",
       "1    No  \n",
       "2   Yes  \n",
       "3    No  \n",
       "4   Yes  "
      ]
     },
     "execution_count": 11,
     "metadata": {},
     "output_type": "execute_result"
    }
   ],
   "source": [
    "dataset.head()\n"
   ]
  },
  {
   "cell_type": "code",
   "execution_count": 12,
   "metadata": {},
   "outputs": [
    {
     "data": {
      "text/plain": [
       "Index(['customerID', 'gender', 'SeniorCitizen', 'Partner', 'Dependents',\n",
       "       'tenure', 'PhoneService', 'MultipleLines', 'InternetService',\n",
       "       'OnlineSecurity', 'OnlineBackup', 'DeviceProtection', 'TechSupport',\n",
       "       'StreamingTV', 'StreamingMovies', 'Contract', 'PaperlessBilling',\n",
       "       'PaymentMethod', 'MonthlyCharges', 'TotalCharges', 'Churn'],\n",
       "      dtype='object')"
      ]
     },
     "execution_count": 12,
     "metadata": {},
     "output_type": "execute_result"
    }
   ],
   "source": [
    "dataset.columns"
   ]
  },
  {
   "cell_type": "markdown",
   "metadata": {},
   "source": [
    "Une méthode de description rapide révèle que les clients des télécommunications restent en moyenne 32 mois et paient 64 $ par mois."
   ]
  },
  {
   "cell_type": "code",
   "execution_count": 13,
   "metadata": {},
   "outputs": [
    {
     "data": {
      "text/html": [
       "<div>\n",
       "<style scoped>\n",
       "    .dataframe tbody tr th:only-of-type {\n",
       "        vertical-align: middle;\n",
       "    }\n",
       "\n",
       "    .dataframe tbody tr th {\n",
       "        vertical-align: top;\n",
       "    }\n",
       "\n",
       "    .dataframe thead th {\n",
       "        text-align: right;\n",
       "    }\n",
       "</style>\n",
       "<table border=\"1\" class=\"dataframe\">\n",
       "  <thead>\n",
       "    <tr style=\"text-align: right;\">\n",
       "      <th></th>\n",
       "      <th>SeniorCitizen</th>\n",
       "      <th>tenure</th>\n",
       "      <th>MonthlyCharges</th>\n",
       "    </tr>\n",
       "  </thead>\n",
       "  <tbody>\n",
       "    <tr>\n",
       "      <th>count</th>\n",
       "      <td>7043.000000</td>\n",
       "      <td>7043.000000</td>\n",
       "      <td>7043.000000</td>\n",
       "    </tr>\n",
       "    <tr>\n",
       "      <th>mean</th>\n",
       "      <td>0.162147</td>\n",
       "      <td>32.371149</td>\n",
       "      <td>64.761692</td>\n",
       "    </tr>\n",
       "    <tr>\n",
       "      <th>std</th>\n",
       "      <td>0.368612</td>\n",
       "      <td>24.559481</td>\n",
       "      <td>30.090047</td>\n",
       "    </tr>\n",
       "    <tr>\n",
       "      <th>min</th>\n",
       "      <td>0.000000</td>\n",
       "      <td>0.000000</td>\n",
       "      <td>18.250000</td>\n",
       "    </tr>\n",
       "    <tr>\n",
       "      <th>25%</th>\n",
       "      <td>0.000000</td>\n",
       "      <td>9.000000</td>\n",
       "      <td>35.500000</td>\n",
       "    </tr>\n",
       "    <tr>\n",
       "      <th>50%</th>\n",
       "      <td>0.000000</td>\n",
       "      <td>29.000000</td>\n",
       "      <td>70.350000</td>\n",
       "    </tr>\n",
       "    <tr>\n",
       "      <th>75%</th>\n",
       "      <td>0.000000</td>\n",
       "      <td>55.000000</td>\n",
       "      <td>89.850000</td>\n",
       "    </tr>\n",
       "    <tr>\n",
       "      <th>max</th>\n",
       "      <td>1.000000</td>\n",
       "      <td>72.000000</td>\n",
       "      <td>118.750000</td>\n",
       "    </tr>\n",
       "  </tbody>\n",
       "</table>\n",
       "</div>"
      ],
      "text/plain": [
       "       SeniorCitizen       tenure  MonthlyCharges\n",
       "count    7043.000000  7043.000000     7043.000000\n",
       "mean        0.162147    32.371149       64.761692\n",
       "std         0.368612    24.559481       30.090047\n",
       "min         0.000000     0.000000       18.250000\n",
       "25%         0.000000     9.000000       35.500000\n",
       "50%         0.000000    29.000000       70.350000\n",
       "75%         0.000000    55.000000       89.850000\n",
       "max         1.000000    72.000000      118.750000"
      ]
     },
     "execution_count": 13,
     "metadata": {},
     "output_type": "execute_result"
    }
   ],
   "source": [
    "dataset.describe()"
   ]
  },
  {
   "cell_type": "markdown",
   "metadata": {},
   "source": [
    "À première vue, nous pouvons supposer que l'ensemble de données contient plusieurs colonnes numériques et catégorielles fournissant diverses informations sur les transactions des clients."
   ]
  },
  {
   "cell_type": "code",
   "execution_count": 14,
   "metadata": {},
   "outputs": [
    {
     "data": {
      "text/plain": [
       "customerID           object\n",
       "gender               object\n",
       "SeniorCitizen         int64\n",
       "Partner              object\n",
       "Dependents           object\n",
       "tenure                int64\n",
       "PhoneService         object\n",
       "MultipleLines        object\n",
       "InternetService      object\n",
       "OnlineSecurity       object\n",
       "OnlineBackup         object\n",
       "DeviceProtection     object\n",
       "TechSupport          object\n",
       "StreamingTV          object\n",
       "StreamingMovies      object\n",
       "Contract             object\n",
       "PaperlessBilling     object\n",
       "PaymentMethod        object\n",
       "MonthlyCharges      float64\n",
       "TotalCharges         object\n",
       "Churn                object\n",
       "dtype: object"
      ]
     },
     "execution_count": 14,
     "metadata": {},
     "output_type": "execute_result"
    }
   ],
   "source": [
    "dataset.dtypes"
   ]
  },
  {
   "cell_type": "markdown",
   "metadata": {},
   "source": [
    "**Re-validate column data types and missing values:** <br/>\n",
    "Les valeurs manquantes pourraient gâcher la construction et la précision du modèle. Par conséquent, nous devons nous occuper des valeurs manquantes avant de comparer et de sélectionner un modèle."
   ]
  },
  {
   "cell_type": "code",
   "execution_count": 15,
   "metadata": {},
   "outputs": [
    {
     "data": {
      "text/plain": [
       "{int64: ['SeniorCitizen', 'tenure'], float64: ['MonthlyCharges'], object: ['customerID', 'gender', 'Partner', 'Dependents', 'PhoneService', 'MultipleLines', 'InternetService', 'OnlineSecurity', 'OnlineBackup', 'DeviceProtection', 'TechSupport', 'StreamingTV', 'StreamingMovies', 'Contract', 'PaperlessBilling', 'PaymentMethod', 'TotalCharges', 'Churn']}"
      ]
     },
     "execution_count": 15,
     "metadata": {},
     "output_type": "execute_result"
    }
   ],
   "source": [
    "dataset.columns.to_series().groupby(dataset.dtypes).groups"
   ]
  },
  {
   "cell_type": "markdown",
   "metadata": {},
   "source": [
    "L'ensemble de données contient 7043 lignes et 21 colonnes et il ne semble pas y avoir de valeurs manquantes dans l'ensemble de données."
   ]
  },
  {
   "cell_type": "code",
   "execution_count": 16,
   "metadata": {},
   "outputs": [
    {
     "name": "stdout",
     "output_type": "stream",
     "text": [
      "<class 'pandas.core.frame.DataFrame'>\n",
      "RangeIndex: 7043 entries, 0 to 7042\n",
      "Data columns (total 21 columns):\n",
      " #   Column            Non-Null Count  Dtype  \n",
      "---  ------            --------------  -----  \n",
      " 0   customerID        7043 non-null   object \n",
      " 1   gender            7043 non-null   object \n",
      " 2   SeniorCitizen     7043 non-null   int64  \n",
      " 3   Partner           7043 non-null   object \n",
      " 4   Dependents        7043 non-null   object \n",
      " 5   tenure            7043 non-null   int64  \n",
      " 6   PhoneService      7043 non-null   object \n",
      " 7   MultipleLines     7043 non-null   object \n",
      " 8   InternetService   7043 non-null   object \n",
      " 9   OnlineSecurity    7043 non-null   object \n",
      " 10  OnlineBackup      7043 non-null   object \n",
      " 11  DeviceProtection  7043 non-null   object \n",
      " 12  TechSupport       7043 non-null   object \n",
      " 13  StreamingTV       7043 non-null   object \n",
      " 14  StreamingMovies   7043 non-null   object \n",
      " 15  Contract          7043 non-null   object \n",
      " 16  PaperlessBilling  7043 non-null   object \n",
      " 17  PaymentMethod     7043 non-null   object \n",
      " 18  MonthlyCharges    7043 non-null   float64\n",
      " 19  TotalCharges      7043 non-null   object \n",
      " 20  Churn             7043 non-null   object \n",
      "dtypes: float64(1), int64(2), object(18)\n",
      "memory usage: 1.1+ MB\n"
     ]
    }
   ],
   "source": [
    "dataset.info()"
   ]
  },
  {
   "cell_type": "code",
   "execution_count": 17,
   "metadata": {},
   "outputs": [
    {
     "data": {
      "text/plain": [
       "customerID          False\n",
       "gender              False\n",
       "SeniorCitizen       False\n",
       "Partner             False\n",
       "Dependents          False\n",
       "tenure              False\n",
       "PhoneService        False\n",
       "MultipleLines       False\n",
       "InternetService     False\n",
       "OnlineSecurity      False\n",
       "OnlineBackup        False\n",
       "DeviceProtection    False\n",
       "TechSupport         False\n",
       "StreamingTV         False\n",
       "StreamingMovies     False\n",
       "Contract            False\n",
       "PaperlessBilling    False\n",
       "PaymentMethod       False\n",
       "MonthlyCharges      False\n",
       "TotalCharges        False\n",
       "Churn               False\n",
       "dtype: bool"
      ]
     },
     "execution_count": 17,
     "metadata": {},
     "output_type": "execute_result"
    }
   ],
   "source": [
    "dataset.isna().any()"
   ]
  },
  {
   "cell_type": "markdown",
   "metadata": {},
   "source": [
    "**Identifiez des valeurs uniques :** <br/> \"Payment Methods\" et \"Contract\" sont deux variables catégorielles de l'ensemble de données. Lorsque nous examinons les valeurs uniques de chaque variable catégorique, nous obtenons un aperçu que les clients sont soit sur un contrat glissant de mois en mois, soit sur un contrat fixe pour un ou deux ans. En outre, ils paient leurs factures par carte de crédit, virement bancaire ou chèques électroniques."
   ]
  },
  {
   "cell_type": "code",
   "execution_count": 18,
   "metadata": {},
   "outputs": [
    {
     "data": {
      "text/plain": [
       "array(['Month-to-month', 'One year', 'Two year'], dtype=object)"
      ]
     },
     "execution_count": 18,
     "metadata": {},
     "output_type": "execute_result"
    }
   ],
   "source": [
    "#Unique values in each categorical variable:\n",
    "dataset[\"PaymentMethod\"].nunique()\n",
    "dataset[\"PaymentMethod\"].unique()\n",
    "dataset[\"Contract\"].nunique()\n",
    "dataset[\"Contract\"].unique()"
   ]
  },
  {
   "cell_type": "markdown",
   "metadata": {},
   "source": [
    "**Étape 5 : Vérifiez la distribution de la variable cible :** <br/>\n",
    "L'ensemble de données est déséquilibré avec une forte proportion de clients actifs par rapport à ceux qui sont inactifs."
   ]
  },
  {
   "cell_type": "code",
   "execution_count": 19,
   "metadata": {},
   "outputs": [
    {
     "data": {
      "text/plain": [
       "No     5174\n",
       "Yes    1869\n",
       "Name: Churn, dtype: int64"
      ]
     },
     "execution_count": 19,
     "metadata": {},
     "output_type": "execute_result"
    }
   ],
   "source": [
    "dataset[\"Churn\"].value_counts()"
   ]
  },
  {
   "cell_type": "markdown",
   "metadata": {},
   "source": [
    "**Étape 6 : Nettoyer l'ensemble de données**"
   ]
  },
  {
   "cell_type": "code",
   "execution_count": 20,
   "metadata": {},
   "outputs": [],
   "source": [
    "dataset['TotalCharges'] = pd.to_numeric(dataset['TotalCharges'],errors='coerce')\n",
    "dataset['TotalCharges'] = dataset['TotalCharges'].astype(\"float\")"
   ]
  },
  {
   "cell_type": "markdown",
   "metadata": {},
   "source": [
    "**Étape 7 : Prenez soin des données manquantes** <br/>\n",
    "les données fournies n'ont pas de valeurs manquantes et cette étape n'est donc pas requise pour l'ensemble de données choisi. Je voudrais présenter les étapes ici pour toutes les références futures."
   ]
  },
  {
   "cell_type": "code",
   "execution_count": 21,
   "metadata": {},
   "outputs": [
    {
     "name": "stdout",
     "output_type": "stream",
     "text": [
      "<class 'pandas.core.frame.DataFrame'>\n",
      "RangeIndex: 7043 entries, 0 to 7042\n",
      "Data columns (total 21 columns):\n",
      " #   Column            Non-Null Count  Dtype  \n",
      "---  ------            --------------  -----  \n",
      " 0   customerID        7043 non-null   object \n",
      " 1   gender            7043 non-null   object \n",
      " 2   SeniorCitizen     7043 non-null   int64  \n",
      " 3   Partner           7043 non-null   object \n",
      " 4   Dependents        7043 non-null   object \n",
      " 5   tenure            7043 non-null   int64  \n",
      " 6   PhoneService      7043 non-null   object \n",
      " 7   MultipleLines     7043 non-null   object \n",
      " 8   InternetService   7043 non-null   object \n",
      " 9   OnlineSecurity    7043 non-null   object \n",
      " 10  OnlineBackup      7043 non-null   object \n",
      " 11  DeviceProtection  7043 non-null   object \n",
      " 12  TechSupport       7043 non-null   object \n",
      " 13  StreamingTV       7043 non-null   object \n",
      " 14  StreamingMovies   7043 non-null   object \n",
      " 15  Contract          7043 non-null   object \n",
      " 16  PaperlessBilling  7043 non-null   object \n",
      " 17  PaymentMethod     7043 non-null   object \n",
      " 18  MonthlyCharges    7043 non-null   float64\n",
      " 19  TotalCharges      7032 non-null   float64\n",
      " 20  Churn             7043 non-null   object \n",
      "dtypes: float64(2), int64(2), object(17)\n",
      "memory usage: 1.1+ MB\n"
     ]
    },
    {
     "data": {
      "text/plain": [
       "customerID          False\n",
       "gender              False\n",
       "SeniorCitizen       False\n",
       "Partner             False\n",
       "Dependents          False\n",
       "tenure              False\n",
       "PhoneService        False\n",
       "MultipleLines       False\n",
       "InternetService     False\n",
       "OnlineSecurity      False\n",
       "OnlineBackup        False\n",
       "DeviceProtection    False\n",
       "TechSupport         False\n",
       "StreamingTV         False\n",
       "StreamingMovies     False\n",
       "Contract            False\n",
       "PaperlessBilling    False\n",
       "PaymentMethod       False\n",
       "MonthlyCharges      False\n",
       "TotalCharges         True\n",
       "Churn               False\n",
       "dtype: bool"
      ]
     },
     "execution_count": 21,
     "metadata": {},
     "output_type": "execute_result"
    }
   ],
   "source": [
    "dataset.info()\n",
    "dataset.isna().any()"
   ]
  },
  {
   "cell_type": "markdown",
   "metadata": {},
   "source": [
    "**Trouvez la moyenne et remplissez les valeurs manquantes:**  <br/>\n",
    "Nous devrions trouver la moyenne de chacune de ces colonnes et remplir leurs valeurs manquantes. Voici un extrait de code pour effectuer la même étape par programmation."
   ]
  },
  {
   "cell_type": "code",
   "execution_count": 22,
   "metadata": {},
   "outputs": [],
   "source": [
    "na_cols = dataset.isna().any()\n",
    "na_cols = na_cols[na_cols == True].reset_index()\n",
    "na_cols = na_cols[\"index\"].tolist()\n",
    "for col in dataset.columns[1:]:\n",
    "     if col in na_cols:\n",
    "        if dataset[col].dtype != 'object':\n",
    "             dataset[col] =  dataset[col].fillna(dataset[col].mean()).round(0)"
   ]
  },
  {
   "cell_type": "markdown",
   "metadata": {},
   "source": [
    "**Revalider les NA :**  <br/>\n",
    "C'est toujours une bonne pratique de revalider et de s'assurer que nous n'avons plus de valeurs nulles dans l'ensemble de données.\n"
   ]
  },
  {
   "cell_type": "code",
   "execution_count": 23,
   "metadata": {},
   "outputs": [
    {
     "data": {
      "text/plain": [
       "customerID          False\n",
       "gender              False\n",
       "SeniorCitizen       False\n",
       "Partner             False\n",
       "Dependents          False\n",
       "tenure              False\n",
       "PhoneService        False\n",
       "MultipleLines       False\n",
       "InternetService     False\n",
       "OnlineSecurity      False\n",
       "OnlineBackup        False\n",
       "DeviceProtection    False\n",
       "TechSupport         False\n",
       "StreamingTV         False\n",
       "StreamingMovies     False\n",
       "Contract            False\n",
       "PaperlessBilling    False\n",
       "PaymentMethod       False\n",
       "MonthlyCharges      False\n",
       "TotalCharges        False\n",
       "Churn               False\n",
       "dtype: bool"
      ]
     },
     "execution_count": 23,
     "metadata": {},
     "output_type": "execute_result"
    }
   ],
   "source": [
    "dataset.isna().any()"
   ]
  },
  {
   "cell_type": "markdown",
   "metadata": {},
   "source": [
    "\n",
    "**Étape 8 : étiqueter les données binaires d'encodage :**  <br/> \n",
    "les algorithmes d'apprentissage automatique ne peuvent généralement avoir que des valeurs numériques comme variables indépendantes. Par conséquent, l'encodage des étiquettes est tout à fait essentiel car ils encodent les étiquettes catégorielles avec des valeurs numériques appropriées. \n"
   ]
  },
  {
   "cell_type": "code",
   "execution_count": 24,
   "metadata": {},
   "outputs": [
    {
     "name": "stdout",
     "output_type": "stream",
     "text": [
      "6 columns were label encoded.\n"
     ]
    }
   ],
   "source": [
    "#Create a label encoder object\n",
    "le = LabelEncoder()\n",
    "# Label Encoding will be used for columns with 2 or less unique values\n",
    "le_count = 0\n",
    "for col in dataset.columns[1:]:\n",
    "    if dataset[col].dtype == 'object':\n",
    "        if len(list(dataset[col].unique())) <= 2:\n",
    "            le.fit(dataset[col])\n",
    "            dataset[col] = le.transform(dataset[col])\n",
    "            le_count += 1\n",
    "print('{} columns were label encoded.'.format(le_count))"
   ]
  },
  {
   "cell_type": "markdown",
   "metadata": {},
   "source": [
    "**Section B: Data Evaluation** <br/> \n",
    "**Etape 9:L'analyse des données:** <br/>\n",
    "**Etape 9.1. Tracage de l'histogramme des colonnes numériques:**<br/>\n",
    "-La répartition par sexe montre que l'ensemble de données présente une proportion relativement égale de clients masculins et féminins. Près de la moitié des clients de notre ensemble de données sont des femmes tandis que l'autre moitié sont des hommes.<br/>\n",
    "-La plupart des clients de l'ensemble de données sont des jeunes.<br/>\n",
    "-Peu de clients semblent avoir des organisations alors que près de la moitié des clients ont un partenaire.<br/>\n",
    "-Il y a beaucoup de nouveaux clients dans l'organisation (moins de 10 mois) suivis d'un segment de clients fidèles qui restent plus de 70 mois en moyenne.<br/>\n",
    "-La plupart des clients semblent avoir un service téléphonique et 3/4 d'entre eux ont opté pour la facturation sans papier<br/>\n",
    "-Les frais mensuels s'étendent entre 18 $ et 118 $ par client avec une énorme proportion de clients sur le segment de 20 $."
   ]
  },
  {
   "cell_type": "code",
   "execution_count": 25,
   "metadata": {},
   "outputs": [
    {
     "data": {
      "image/png": "[encoded data removed]",
      "text/plain": [
       "<Figure size 1080x864 with 9 Axes>"
      ]
     },
     "metadata": {
      "needs_background": "light"
     },
     "output_type": "display_data"
    }
   ],
   "source": [
    "dataset2 = dataset[['gender', \n",
    "'SeniorCitizen', 'Partner','Dependents',\n",
    "'tenure', 'PhoneService', 'PaperlessBilling',\n",
    "'MonthlyCharges', 'TotalCharges']]\n",
    "#Histogram:\n",
    "    \n",
    "fig = plt.figure(figsize=(15, 12))\n",
    "plt.suptitle('Histograms of Numerical Columns\\n',horizontalalignment=\"center\",fontstyle = \"normal\", fontsize = 24, fontfamily = \"sans-serif\")\n",
    "for i in range(dataset2.shape[1]):\n",
    "    plt.subplot(6, 3, i + 1)\n",
    "    f = plt.gca()\n",
    "    f.set_title(dataset2.columns.values[i])\n",
    "    vals = np.size(dataset2.iloc[:, i].unique())\n",
    "    if vals >= 100:\n",
    "        vals = 100\n",
    "    plt.hist(dataset2.iloc[:, i], bins=vals, color = '#ec838a')\n",
    "    plt.tight_layout(rect=[0, 0.03, 1, 0.95])"
   ]
  },
  {
   "cell_type": "markdown",
   "metadata": {},
   "source": [
    "**Étape 9.2. Analysez la distribution des variables catégorielles :** <br/>\n",
    "**9.2.1. Répartition du type de contrat :** <br/> La plupart des clients semblent avoir une connexion prépayée avec la société de télécommunications. En revanche, on retrouve une proportion à peu près égale de clients dans les contrats 1 an et 2 ans."
   ]
  },
  {
   "cell_type": "code",
   "execution_count": 26,
   "metadata": {},
   "outputs": [
    {
     "data": {
      "image/png": "[encoded data removed]",
      "text/plain": [
       "<Figure size 864x504 with 1 Axes>"
      ]
     },
     "metadata": {
      "needs_background": "light"
     },
     "output_type": "display_data"
    }
   ],
   "source": [
    "contract_split = dataset[[ \"customerID\", \"Contract\"]]\n",
    "sectors = contract_split .groupby (\"Contract\")\n",
    "contract_split = pd.DataFrame(sectors[\"customerID\"].count())\n",
    "contract_split.rename(columns={'customerID':'No. of customers'}, inplace=True)\n",
    "ax =  contract_split[[\"No. of customers\"]].plot.bar(title = 'Customers by Contract Type',legend =True, table = False, \n",
    "grid = False,  subplots = False,figsize =(12, 7), color ='#ec838a', \n",
    "fontsize = 15, stacked=False)\n",
    "plt.ylabel('No. of Customers\\n',\n",
    "horizontalalignment=\"center\",fontstyle = \"normal\", \n",
    "fontsize = \"large\", fontfamily = \"sans-serif\")\n",
    "plt.xlabel('\\n Contract Type',\n",
    "horizontalalignment=\"center\",fontstyle = \"normal\", \n",
    "fontsize = \"large\", fontfamily = \"sans-serif\")\n",
    "plt.title('Customers by Contract Type \\n',\n",
    "horizontalalignment=\"center\",fontstyle = \"normal\", \n",
    "fontsize = \"22\", fontfamily = \"sans-serif\")\n",
    "plt.legend(loc='upper right', fontsize = \"medium\")\n",
    "plt.xticks(rotation=0, horizontalalignment=\"center\")\n",
    "plt.yticks(rotation=0, horizontalalignment=\"right\")\n",
    "x_labels = np.array(contract_split[[\"No. of customers\"]])\n",
    "def add_value_labels(ax, spacing=5):   \n",
    "    for rect in ax.patches:      \n",
    "        y_value = rect.get_height()\n",
    "        x_value = rect.get_x() + rect.get_width() / 2       \n",
    "        space = spacing        \n",
    "        va = 'bottom'      \n",
    "        if y_value < 0:           \n",
    "            space *= -1            \n",
    "            va = 'top'       \n",
    "        label = \"{:.0f}\".format(y_value)      \n",
    "        \n",
    "        ax.annotate(\n",
    "        label,                      \n",
    "        (x_value, y_value),         \n",
    "        xytext=(0, space),          \n",
    "        textcoords=\"offset points\", \n",
    "        ha='center',                \n",
    "        va=va)  \n",
    "        \n",
    "add_value_labels(ax)"
   ]
  },
  {
   "cell_type": "markdown",
   "metadata": {},
   "source": [
    "**Analyse exploratoire des données - conclusion:** <br/>\n",
    "-L'ensemble de données ne contient aucune valeur de données manquante ou erronée.<br/>\n",
    "-La corrélation positive la plus forte avec les caractéristiques cibles est les charges mensuelles et l'âge, tandis que la corrélation négative est avec le partenaire, les personnes à charge et l'ancienneté.<br/>\n",
    "-L'ensemble de données est déséquilibré, la majorité des clients étant actifs.<br/>\n",
    "-Il existe une multicolinéarité entre les frais mensuels et les frais totaux. La baisse des charges totales a considérablement réduit les valeurs VIF.<br/>\n",
    "-La plupart des clients de l'ensemble de données sont des jeunes.<br/>\n",
    "-Il y a beaucoup de nouveaux clients dans l'organisation (moins de 10 mois) suivis d'une clientèle fidèle de plus de 70 mois.<br/>\n",
    "-La plupart des clients semblent avoir un service téléphonique avec des frais mensuels allant de 18 $ à 118 $ par client.<br/>\n",
    "-Les clients disposant d'une connexion mensuelle ont une très forte probabilité de le faire également s'ils ont souscrit au paiement par chèque électronique<br/>\n"
   ]
  },
  {
   "cell_type": "markdown",
   "metadata": {},
   "source": [
    "**Étape 10 : Encoder les données catégorielles** <br/>\n",
    "Toute variable catégorique qui a plus de deux valeurs uniques a été traitée avec Label Encoding et one-hot Encoding en utilisant la méthode get_dummies dans pandas ici."
   ]
  },
  {
   "cell_type": "code",
   "execution_count": 27,
   "metadata": {},
   "outputs": [],
   "source": [
    "#si user_id est un objet :\n",
    "    \n",
    "identity = dataset[\"customerID\"]\n",
    "dataset = dataset.drop(columns=\"customerID\")\n",
    "#Convertir le reste de la variable catégorique en variable fictive :\n",
    "dataset= pd.get_dummies(dataset)\n",
    "#Rejoindre l'ID utilisateur à l'ensemble de données :\n",
    "dataset = pd.concat([dataset, identity], axis = 1)"
   ]
  },
  {
   "cell_type": "markdown",
   "metadata": {},
   "source": [
    "**Étape 11 : Divisez l'ensemble de données en variables dépendantes et indépendantes ** <br/>\n",
    "\n",
    "Nous devons maintenant séparer l'ensemble de données en valeurs X et y. y serait la colonne \"Churn\" tandis que X serait la liste restante des variables indépendantes dans l'ensemble de données."
   ]
  },
  {
   "cell_type": "code",
   "execution_count": 28,
   "metadata": {},
   "outputs": [],
   "source": [
    "#Identifiez la variable de réponse :\n",
    "response = dataset[\"Churn\"]\n",
    "dataset = dataset.drop(columns=\"Churn\")"
   ]
  },
  {
   "cell_type": "markdown",
   "metadata": {},
   "source": [
    "**Étape 12 : Générer des ensembles de données de train et de test :** <br/>\n",
    "découplons l'ensemble de données principal en ensemble train et de test avec un ratio de 80 % à 20 %."
   ]
  },
  {
   "cell_type": "code",
   "execution_count": 29,
   "metadata": {},
   "outputs": [
    {
     "name": "stdout",
     "output_type": "stream",
     "text": [
      "Number transactions X_train dataset:  (5634, 41)\n",
      "Number transactions y_train dataset:  (5634,)\n",
      "Number transactions X_test dataset:  (1409, 41)\n",
      "Number transactions y_test dataset:  (1409,)\n"
     ]
    }
   ],
   "source": [
    "X_train, X_test, y_train, y_test = train_test_split(dataset, response, stratify=response, test_size = 0.2)\n",
    "print(\"Number transactions X_train dataset: \", X_train.shape)\n",
    "print(\"Number transactions y_train dataset: \", y_train.shape)\n",
    "print(\"Number transactions X_test dataset: \", X_test.shape)\n",
    "print(\"Number transactions y_test dataset: \", y_test.shape)\n",
    "\n",
    "\n",
    "\n"
   ]
  },
  {
   "cell_type": "markdown",
   "metadata": {},
   "source": [
    "**Étape 13 : Supprimer les identifiants :** <br/>\n",
    "Séparez ‘customerID’ des trames de données de training et de test."
   ]
  },
  {
   "cell_type": "code",
   "execution_count": 30,
   "metadata": {},
   "outputs": [],
   "source": [
    "train_identity = X_train['customerID']\n",
    "X_train = X_train.drop(columns = ['customerID'])\n",
    "test_identity = X_test['customerID']\n",
    "X_test = X_test.drop(columns = ['customerID'])"
   ]
  },
  {
   "cell_type": "markdown",
   "metadata": {},
   "source": [
    "**Étape 14 : Effectuer la mise à l'échelle des fonctionnalités** <br/>\n",
    "Il est très important de normaliser les variables avant d'effectuer des algorithmes d'apprentissage automatique (classification) afin que toutes les variables d'apprentissage et de test soient mises à l'échelle dans une plage de 0 à 1."
   ]
  },
  {
   "cell_type": "code",
   "execution_count": 31,
   "metadata": {},
   "outputs": [],
   "source": [
    "sc_X = StandardScaler()\n",
    "X_train2 = pd.DataFrame(sc_X.fit_transform(X_train))\n",
    "X_train2.columns = X_train.columns.values\n",
    "X_train2.index = X_train.index.values\n",
    "X_train = X_train2\n",
    "X_test2 = pd.DataFrame(sc_X.transform(X_test))\n",
    "X_test2.columns = X_test.columns.values\n",
    "X_test2.index = X_test.index.values\n",
    "X_test = X_test2"
   ]
  },
  {
   "cell_type": "markdown",
   "metadata": {},
   "source": [
    "**Section C: Model Selection** <br/>\n",
    "Étape 15.1 : Comparer les algorithmes de classification de base (1ère itération) : Modélisons chaque algorithme de classification sur l'ensemble de données d'apprentissage et évaluons leur précision et leurs scores d'écart type.\n",
    "La précision de la classification est l'une des mesures d'évaluation de la classification les plus courantes pour comparer les algorithmes de base, car il s'agit du nombre de prédictions correctes faites en tant que rapport des prédictions totales. Cependant, ce n'est pas la métrique idéale lorsque nous avons un problème de déséquilibre de classe. Par conséquent, trions les résultats en fonction de la valeur \"Mean AUC\" qui n'est rien d'autre que la capacité du modèle à faire la distinction entre les classes positives et négatives."
   ]
  },
  {
   "cell_type": "code",
   "execution_count": 32,
   "metadata": {},
   "outputs": [
    {
     "data": {
      "text/html": [
       "<div>\n",
       "<style scoped>\n",
       "    .dataframe tbody tr th:only-of-type {\n",
       "        vertical-align: middle;\n",
       "    }\n",
       "\n",
       "    .dataframe tbody tr th {\n",
       "        vertical-align: top;\n",
       "    }\n",
       "\n",
       "    .dataframe thead th {\n",
       "        text-align: right;\n",
       "    }\n",
       "</style>\n",
       "<table border=\"1\" class=\"dataframe\">\n",
       "  <thead>\n",
       "    <tr style=\"text-align: right;\">\n",
       "      <th></th>\n",
       "      <th>Algorithm</th>\n",
       "      <th>ROC AUC Mean</th>\n",
       "      <th>ROC AUC STD</th>\n",
       "      <th>Accuracy Mean</th>\n",
       "      <th>Accuracy STD</th>\n",
       "    </tr>\n",
       "  </thead>\n",
       "  <tbody>\n",
       "    <tr>\n",
       "      <th>0</th>\n",
       "      <td>Logistic Regression</td>\n",
       "      <td>84.16</td>\n",
       "      <td>1.38</td>\n",
       "      <td>74.28</td>\n",
       "      <td>1.25</td>\n",
       "    </tr>\n",
       "    <tr>\n",
       "      <th>1</th>\n",
       "      <td>SVC</td>\n",
       "      <td>82.91</td>\n",
       "      <td>1.55</td>\n",
       "      <td>79.66</td>\n",
       "      <td>1.46</td>\n",
       "    </tr>\n",
       "    <tr>\n",
       "      <th>6</th>\n",
       "      <td>Random Forest</td>\n",
       "      <td>82.01</td>\n",
       "      <td>1.78</td>\n",
       "      <td>78.79</td>\n",
       "      <td>1.23</td>\n",
       "    </tr>\n",
       "    <tr>\n",
       "      <th>4</th>\n",
       "      <td>Gaussian NB</td>\n",
       "      <td>81.25</td>\n",
       "      <td>1.91</td>\n",
       "      <td>69.35</td>\n",
       "      <td>1.16</td>\n",
       "    </tr>\n",
       "    <tr>\n",
       "      <th>2</th>\n",
       "      <td>Kernel SVM</td>\n",
       "      <td>79.87</td>\n",
       "      <td>1.98</td>\n",
       "      <td>79.68</td>\n",
       "      <td>1.15</td>\n",
       "    </tr>\n",
       "    <tr>\n",
       "      <th>3</th>\n",
       "      <td>KNN</td>\n",
       "      <td>76.94</td>\n",
       "      <td>2.25</td>\n",
       "      <td>75.74</td>\n",
       "      <td>1.49</td>\n",
       "    </tr>\n",
       "    <tr>\n",
       "      <th>5</th>\n",
       "      <td>Decision Tree Classifier</td>\n",
       "      <td>66.20</td>\n",
       "      <td>1.83</td>\n",
       "      <td>73.31</td>\n",
       "      <td>1.70</td>\n",
       "    </tr>\n",
       "  </tbody>\n",
       "</table>\n",
       "</div>"
      ],
      "text/plain": [
       "                  Algorithm  ROC AUC Mean  ROC AUC STD  Accuracy Mean  \\\n",
       "0       Logistic Regression         84.16         1.38          74.28   \n",
       "1                       SVC         82.91         1.55          79.66   \n",
       "6             Random Forest         82.01         1.78          78.79   \n",
       "4               Gaussian NB         81.25         1.91          69.35   \n",
       "2                Kernel SVM         79.87         1.98          79.68   \n",
       "3                       KNN         76.94         2.25          75.74   \n",
       "5  Decision Tree Classifier         66.20         1.83          73.31   \n",
       "\n",
       "   Accuracy STD  \n",
       "0          1.25  \n",
       "1          1.46  \n",
       "6          1.23  \n",
       "4          1.16  \n",
       "2          1.15  \n",
       "3          1.49  \n",
       "5          1.70  "
      ]
     },
     "execution_count": 32,
     "metadata": {},
     "output_type": "execute_result"
    }
   ],
   "source": [
    "models = []\n",
    "models.append(('Logistic Regression', LogisticRegression(solver='liblinear', random_state = None,\n",
    "                                                         class_weight='balanced')))\n",
    "models.append(('SVC', SVC(kernel = 'linear', random_state = None)))\n",
    "models.append(('Kernel SVM', SVC(kernel = 'rbf', random_state = None)))\n",
    "models.append(('KNN', KNeighborsClassifier(n_neighbors = 5, metric = 'minkowski', p = 2)))\n",
    "models.append(('Gaussian NB', GaussianNB()))\n",
    "models.append(('Decision Tree Classifier',DecisionTreeClassifier(criterion = 'entropy', random_state = None)))\n",
    "models.append(('Random Forest', RandomForestClassifier(n_estimators=100, criterion = 'entropy', random_state = None)))\n",
    "#Evaluating Model Results:\n",
    "acc_results = []\n",
    "auc_results = []\n",
    "names = []\n",
    "# set table to table to populate with performance results\n",
    "col = ['Algorithm', 'ROC AUC Mean', 'ROC AUC STD', 'Accuracy Mean', 'Accuracy STD']\n",
    "model_results = pd.DataFrame(columns=col)\n",
    "i = 0\n",
    "# Evaluate each model using k-fold cross-validation:\n",
    "for name, model in models:\n",
    "    kfold = model_selection.KFold(n_splits=10, random_state=None)\n",
    "    # accuracy scoring:\n",
    "    cv_acc_results = model_selection.cross_val_score(  \n",
    "    model, X_train, y_train, cv=kfold, scoring='accuracy')\n",
    "    # roc_auc scoring:\n",
    "    cv_auc_results = model_selection.cross_val_score(  \n",
    "    model, X_train, y_train, cv=kfold, scoring='roc_auc')\n",
    "    acc_results.append(cv_acc_results)\n",
    "    auc_results.append(cv_auc_results)\n",
    "    names.append(name)\n",
    "    model_results.loc[i] = [name,\n",
    "                         round(cv_auc_results.mean()*100, 2),\n",
    "                         round(cv_auc_results.std()*100, 2),\n",
    "                         round(cv_acc_results.mean()*100, 2),\n",
    "                         round(cv_acc_results.std()*100, 2)\n",
    "                         ]\n",
    "    i += 1\n",
    "    \n",
    "model_results.sort_values(by=['ROC AUC Mean'], ascending=False)"
   ]
  },
  {
   "cell_type": "markdown",
   "metadata": {},
   "source": [
    "**Étape 15.2. Visualisez les comparaisons de précision des algorithmes de classification :** <br/>\n",
    "En utilisant l'accuracy mean"
   ]
  },
  {
   "cell_type": "code",
   "execution_count": 34,
   "metadata": {},
   "outputs": [
    {
     "name": "stderr",
     "output_type": "stream",
     "text": [
      "No handles with labels found to put in legend.\n"
     ]
    },
    {
     "data": {
      "image/png": "[encoded data removed]",
      "text/plain": [
       "<Figure size 1080x504 with 1 Axes>"
      ]
     },
     "metadata": {
      "needs_background": "light"
     },
     "output_type": "display_data"
    }
   ],
   "source": [
    "fig = plt.figure(figsize=(15, 7))\n",
    "ax = fig.add_subplot(111)\n",
    "plt.boxplot(auc_results)\n",
    "ax.set_xticklabels(names)\n",
    "plt.ylabel('ROC AUC Score\\n',\n",
    "horizontalalignment=\"center\",fontstyle = \"normal\", \n",
    "fontsize = \"large\", fontfamily = \"sans-serif\")\n",
    "plt.xlabel('\\n Baseline Classification Algorithms\\n',\n",
    "horizontalalignment=\"center\",fontstyle = \"normal\", \n",
    "fontsize = \"large\", fontfamily = \"sans-serif\")\n",
    "plt.title('Roc Aur Comparison \\n',\n",
    "horizontalalignment=\"center\", fontstyle = \"normal\", \n",
    "fontsize = \"22\", fontfamily = \"sans-serif\")\n",
    "plt.legend(loc='upper right', fontsize = \"medium\")\n",
    "plt.xticks(rotation=0, horizontalalignment=\"center\")\n",
    "plt.yticks(rotation=0, horizontalalignment=\"right\")\n",
    "plt.show()"
   ]
  },
  {
   "cell_type": "markdown",
   "metadata": {},
   "source": [
    "**Section D: Model Evaluation** <br/>\n",
    "Étape 16 : Entraîner et évaluer le modèle choisi : Ajustons le modèle sélectionné (régression logistique dans ce cas) sur l'ensemble de données d'entraînement et évaluons les résultats.\n"
   ]
  },
  {
   "cell_type": "code",
   "execution_count": 35,
   "metadata": {},
   "outputs": [
    {
     "name": "stdout",
     "output_type": "stream",
     "text": [
      "                 Model  Accuracy  Precision    Recall  F1 Score  F2 Score\n",
      "0  Logistic Regression  0.802697   0.652866  0.548128   0.59593  0.566298\n"
     ]
    }
   ],
   "source": [
    "classifier = LogisticRegression(random_state = 0,\n",
    "penalty = 'l2')\n",
    "classifier.fit(X_train, y_train)\n",
    "# Predict the Test set results\n",
    "y_pred = classifier.predict(X_test)\n",
    "#Evaluate Model Results on Test Set:\n",
    "acc = accuracy_score(y_test, y_pred )\n",
    "prec = precision_score(y_test, y_pred )\n",
    "rec = recall_score(y_test, y_pred )\n",
    "f1 = f1_score(y_test, y_pred )\n",
    "f2 = fbeta_score(y_test, y_pred, beta=2.0)\n",
    "results = pd.DataFrame([['Logistic Regression',\n",
    "acc, prec, rec, f1, f2]],columns = ['Model', 'Accuracy', 'Precision', 'Recall', 'F1 Score', 'F2 Score'])\n",
    "print (results)"
   ]
  },
  {
   "cell_type": "markdown",
   "metadata": {},
   "source": [
    "K-Fold Cross-Validation: L'évaluation du modèle est le plus souvent effectuée par la technique de «K-fold Cross-Validation» qui nous aide principalement à corriger la variance. Un problème de variance se produit lorsque nous obtenons une bonne précision lors de l'exécution du modèle sur un ensemble d'apprentissage et un ensemble de test, mais que la précision semble différente lorsque le modèle est exécuté sur un autre ensemble de test.\n",
    "Ainsi, afin de résoudre le problème de variance, la validation croisée k-fold divise essentiellement l'ensemble d'apprentissage en 10 plis et entraîne le modèle sur 9 plis (9 sous-ensembles de l'ensemble de données d'apprentissage) avant de le tester sur le pli de test. Cela nous donne la flexibilité de former notre modèle sur les dix combinaisons de 9 plis ; donnant amplement de place pour finaliser la variance."
   ]
  },
  {
   "cell_type": "code",
   "execution_count": 36,
   "metadata": {},
   "outputs": [
    {
     "name": "stdout",
     "output_type": "stream",
     "text": [
      "Logistic Regression Classifier Accuracy: 0.80 (+/- 0.03)\n"
     ]
    }
   ],
   "source": [
    "accuracies = cross_val_score(estimator = classifier,\n",
    " X = X_train, y = y_train, cv = 10)\n",
    "print(\"Logistic Regression Classifier Accuracy: %0.2f (+/- %0.2f)\"  % (accuracies.mean(), \n",
    "accuracies.std() * 2))\n"
   ]
  },
  {
   "cell_type": "markdown",
   "metadata": {},
   "source": [
    "Par conséquent, nos résultats de validation croisée k-fold indiquent que nous aurions une précision entre 76 % et 84 % lors de l'exécution de ce modèle sur n'importe quel ensemble de test."
   ]
  },
  {
   "cell_type": "markdown",
   "metadata": {},
   "source": [
    "**Visualisez les résultats sur une matrice de confusion :** <br/>\n",
    "La matrice de confusion indique que nous avons 208+924 prédictions correctes et 166+111 prédictions incorrectes. <br/>\n",
    "Taux de précision = nombre de prédictions correctes/total des prédictions * 100 <br/>\n",
    "Taux d'erreur = Nombre de prédictions erronées / prédictions totales * 100  <br/>\n",
    "Nous avons une précision de 80 % ; signalant les caractéristiques d'un modèle raisonnablement bon."
   ]
  },
  {
   "cell_type": "code",
   "execution_count": 37,
   "metadata": {},
   "outputs": [
    {
     "data": {
      "text/plain": [
       "Text(0.5, 16.0, 'Predicted label\\n')"
      ]
     },
     "execution_count": 37,
     "metadata": {},
     "output_type": "execute_result"
    },
    {
     "data": {
      "text/plain": [
       "<Figure size 2016x1440 with 0 Axes>"
      ]
     },
     "metadata": {},
     "output_type": "display_data"
    },
    {
     "data": {
      "image/png": "[encoded data removed]",
      "text/plain": [
       "<Figure size 432x288 with 2 Axes>"
      ]
     },
     "metadata": {
      "needs_background": "light"
     },
     "output_type": "display_data"
    }
   ],
   "source": [
    "cm = confusion_matrix(y_test, y_pred) \n",
    "df_cm = pd.DataFrame(cm, index = (0, 1), columns = (0, 1))\n",
    "plt.figure(figsize = (28,20))\n",
    "fig, ax = plt.subplots()\n",
    "sn.set(font_scale=1.4)\n",
    "sn.heatmap(df_cm, annot=True, fmt='g'#,cmap=\"YlGnBu\" \n",
    "           )\n",
    "class_names=[0,1]\n",
    "tick_marks = np.arange(len(class_names))\n",
    "plt.tight_layout()\n",
    "plt.title('Confusion matrix\\n', y=1.1)\n",
    "plt.xticks(tick_marks, class_names)\n",
    "plt.yticks(tick_marks, class_names)\n",
    "ax.xaxis.set_label_position(\"top\")\n",
    "plt.ylabel('Actual label\\n')\n",
    "plt.xlabel('Predicted label\\n')"
   ]
  },
  {
   "cell_type": "markdown",
   "metadata": {},
   "source": [
    "**Évaluer le modèle à l'aide du graphe ROC** <br/>\n",
    "Il est bon de réévaluer le modèle à l'aide de ROC Graph. Le graphique ROC nous montre la capacité d'un modèle à distinguer les classes en fonction du score AUC Mean. La ligne orange représente la courbe ROC d'un classificateur aléatoire tandis qu'un bon classificateur essaie de rester aussi loin que possible de cette ligne. Comme le montre le graphique ci-dessous, le modèle de régression logistique affiné a présenté un score AUC plus élevé."
   ]
  },
  {
   "cell_type": "code",
   "execution_count": 38,
   "metadata": {},
   "outputs": [
    {
     "data": {
      "image/png": "[encoded data removed]",
      "text/plain": [
       "<Figure size 1008x432 with 1 Axes>"
      ]
     },
     "metadata": {},
     "output_type": "display_data"
    }
   ],
   "source": [
    "classifier.fit(X_train, y_train) \n",
    "probs = classifier.predict_proba(X_test) \n",
    "probs = probs[:, 1] \n",
    "classifier_roc_auc = accuracy_score(y_test, y_pred )\n",
    "rf_fpr, rf_tpr, rf_thresholds = roc_curve(y_test, classifier.predict_proba(X_test)[:,1])\n",
    "plt.figure(figsize=(14, 6))\n",
    "# Plot Logistic Regression ROC\n",
    "plt.plot(rf_fpr, rf_tpr, \n",
    "label='Logistic Regression (area = %0.2f)' % classifier_roc_auc)\n",
    "# Plot Base Rate ROC\n",
    "plt.plot([0,1], [0,1],label='Base Rate' 'k--')\n",
    "plt.xlim([0.0, 1.0])\n",
    "plt.ylim([0.0, 1.05])\n",
    "plt.ylabel('True Positive Rate \\n',horizontalalignment=\"center\",\n",
    "fontstyle = \"normal\", fontsize = \"medium\", \n",
    "fontfamily = \"sans-serif\")\n",
    "plt.xlabel('\\nFalse Positive Rate \\n',horizontalalignment=\"center\",\n",
    "fontstyle = \"normal\", fontsize = \"medium\", \n",
    "fontfamily = \"sans-serif\")\n",
    "plt.title('ROC Graph \\n',horizontalalignment=\"center\", \n",
    "fontstyle = \"normal\", fontsize = \"22\", \n",
    "fontfamily = \"sans-serif\")\n",
    "plt.legend(loc=\"lower right\", fontsize = \"medium\")\n",
    "plt.xticks(rotation=0, horizontalalignment=\"center\")\n",
    "plt.yticks(rotation=0, horizontalalignment=\"right\")\n",
    "plt.show()"
   ]
  },
  {
   "cell_type": "markdown",
   "metadata": {},
   "source": [
    "**Étape 17 : Prédire l'importance des fonctionnalités : ** <br/>\n",
    "\n",
    "La régression logistique nous permet de déterminer les caractéristiques clés qui ont une importance dans la prédiction de l'attribut cible (\"Churn\" dans ce projet).\n",
    "Le modèle de régression logistique prédit que le taux de désabonnement augmenterait positivement avec le contrat mensuel, le service Internet par fibre optique, les chèques électroniques, l'absence de sécurité de paiement et de support technique.\n",
    "D'autre part, le modèle prédit une corrélation négative avec le taux de désabonnement si un client a souscrit à la sécurité en ligne, un contrat d'un an ou s'il a opté pour les chèques postés comme moyen de paiement."
   ]
  },
  {
   "cell_type": "code",
   "execution_count": 39,
   "metadata": {},
   "outputs": [
    {
     "data": {
      "text/html": [
       "<div>\n",
       "<style scoped>\n",
       "    .dataframe tbody tr th:only-of-type {\n",
       "        vertical-align: middle;\n",
       "    }\n",
       "\n",
       "    .dataframe tbody tr th {\n",
       "        vertical-align: top;\n",
       "    }\n",
       "\n",
       "    .dataframe thead th {\n",
       "        text-align: right;\n",
       "    }\n",
       "</style>\n",
       "<table border=\"1\" class=\"dataframe\">\n",
       "  <thead>\n",
       "    <tr style=\"text-align: right;\">\n",
       "      <th></th>\n",
       "      <th>features</th>\n",
       "      <th>coef</th>\n",
       "    </tr>\n",
       "  </thead>\n",
       "  <tbody>\n",
       "    <tr>\n",
       "      <th>8</th>\n",
       "      <td>TotalCharges</td>\n",
       "      <td>0.503391</td>\n",
       "    </tr>\n",
       "    <tr>\n",
       "      <th>13</th>\n",
       "      <td>InternetService_Fiber optic</td>\n",
       "      <td>0.385140</td>\n",
       "    </tr>\n",
       "    <tr>\n",
       "      <th>33</th>\n",
       "      <td>Contract_Month-to-month</td>\n",
       "      <td>0.308045</td>\n",
       "    </tr>\n",
       "    <tr>\n",
       "      <th>32</th>\n",
       "      <td>StreamingMovies_Yes</td>\n",
       "      <td>0.166882</td>\n",
       "    </tr>\n",
       "    <tr>\n",
       "      <th>29</th>\n",
       "      <td>StreamingTV_Yes</td>\n",
       "      <td>0.155342</td>\n",
       "    </tr>\n",
       "    <tr>\n",
       "      <th>6</th>\n",
       "      <td>PaperlessBilling</td>\n",
       "      <td>0.150781</td>\n",
       "    </tr>\n",
       "    <tr>\n",
       "      <th>15</th>\n",
       "      <td>OnlineSecurity_No</td>\n",
       "      <td>0.116258</td>\n",
       "    </tr>\n",
       "    <tr>\n",
       "      <th>38</th>\n",
       "      <td>PaymentMethod_Electronic check</td>\n",
       "      <td>0.105801</td>\n",
       "    </tr>\n",
       "    <tr>\n",
       "      <th>24</th>\n",
       "      <td>TechSupport_No</td>\n",
       "      <td>0.098097</td>\n",
       "    </tr>\n",
       "    <tr>\n",
       "      <th>11</th>\n",
       "      <td>MultipleLines_Yes</td>\n",
       "      <td>0.078746</td>\n",
       "    </tr>\n",
       "    <tr>\n",
       "      <th>23</th>\n",
       "      <td>DeviceProtection_Yes</td>\n",
       "      <td>0.057524</td>\n",
       "    </tr>\n",
       "    <tr>\n",
       "      <th>18</th>\n",
       "      <td>OnlineBackup_No</td>\n",
       "      <td>0.040878</td>\n",
       "    </tr>\n",
       "    <tr>\n",
       "      <th>20</th>\n",
       "      <td>OnlineBackup_Yes</td>\n",
       "      <td>0.040417</td>\n",
       "    </tr>\n",
       "    <tr>\n",
       "      <th>1</th>\n",
       "      <td>SeniorCitizen</td>\n",
       "      <td>0.040327</td>\n",
       "    </tr>\n",
       "    <tr>\n",
       "      <th>21</th>\n",
       "      <td>DeviceProtection_No</td>\n",
       "      <td>0.024318</td>\n",
       "    </tr>\n",
       "    <tr>\n",
       "      <th>2</th>\n",
       "      <td>Partner</td>\n",
       "      <td>0.009601</td>\n",
       "    </tr>\n",
       "    <tr>\n",
       "      <th>10</th>\n",
       "      <td>MultipleLines_No phone service</td>\n",
       "      <td>0.000508</td>\n",
       "    </tr>\n",
       "    <tr>\n",
       "      <th>36</th>\n",
       "      <td>PaymentMethod_Bank transfer (automatic)</td>\n",
       "      <td>-0.000331</td>\n",
       "    </tr>\n",
       "    <tr>\n",
       "      <th>5</th>\n",
       "      <td>PhoneService</td>\n",
       "      <td>-0.000508</td>\n",
       "    </tr>\n",
       "    <tr>\n",
       "      <th>0</th>\n",
       "      <td>gender</td>\n",
       "      <td>-0.004193</td>\n",
       "    </tr>\n",
       "    <tr>\n",
       "      <th>26</th>\n",
       "      <td>TechSupport_Yes</td>\n",
       "      <td>-0.020963</td>\n",
       "    </tr>\n",
       "    <tr>\n",
       "      <th>34</th>\n",
       "      <td>Contract_One year</td>\n",
       "      <td>-0.032005</td>\n",
       "    </tr>\n",
       "    <tr>\n",
       "      <th>17</th>\n",
       "      <td>OnlineSecurity_Yes</td>\n",
       "      <td>-0.041074</td>\n",
       "    </tr>\n",
       "    <tr>\n",
       "      <th>3</th>\n",
       "      <td>Dependents</td>\n",
       "      <td>-0.045924</td>\n",
       "    </tr>\n",
       "    <tr>\n",
       "      <th>39</th>\n",
       "      <td>PaymentMethod_Mailed check</td>\n",
       "      <td>-0.059134</td>\n",
       "    </tr>\n",
       "    <tr>\n",
       "      <th>37</th>\n",
       "      <td>PaymentMethod_Credit card (automatic)</td>\n",
       "      <td>-0.060665</td>\n",
       "    </tr>\n",
       "    <tr>\n",
       "      <th>27</th>\n",
       "      <td>StreamingTV_No</td>\n",
       "      <td>-0.074007</td>\n",
       "    </tr>\n",
       "    <tr>\n",
       "      <th>9</th>\n",
       "      <td>MultipleLines_No</td>\n",
       "      <td>-0.078143</td>\n",
       "    </tr>\n",
       "    <tr>\n",
       "      <th>30</th>\n",
       "      <td>StreamingMovies_No</td>\n",
       "      <td>-0.085503</td>\n",
       "    </tr>\n",
       "    <tr>\n",
       "      <th>28</th>\n",
       "      <td>StreamingTV_No internet service</td>\n",
       "      <td>-0.096125</td>\n",
       "    </tr>\n",
       "    <tr>\n",
       "      <th>31</th>\n",
       "      <td>StreamingMovies_No internet service</td>\n",
       "      <td>-0.096125</td>\n",
       "    </tr>\n",
       "    <tr>\n",
       "      <th>25</th>\n",
       "      <td>TechSupport_No internet service</td>\n",
       "      <td>-0.096125</td>\n",
       "    </tr>\n",
       "    <tr>\n",
       "      <th>14</th>\n",
       "      <td>InternetService_No</td>\n",
       "      <td>-0.096125</td>\n",
       "    </tr>\n",
       "    <tr>\n",
       "      <th>16</th>\n",
       "      <td>OnlineSecurity_No internet service</td>\n",
       "      <td>-0.096125</td>\n",
       "    </tr>\n",
       "    <tr>\n",
       "      <th>22</th>\n",
       "      <td>DeviceProtection_No internet service</td>\n",
       "      <td>-0.096125</td>\n",
       "    </tr>\n",
       "    <tr>\n",
       "      <th>19</th>\n",
       "      <td>OnlineBackup_No internet service</td>\n",
       "      <td>-0.096125</td>\n",
       "    </tr>\n",
       "    <tr>\n",
       "      <th>12</th>\n",
       "      <td>InternetService_DSL</td>\n",
       "      <td>-0.319390</td>\n",
       "    </tr>\n",
       "    <tr>\n",
       "      <th>35</th>\n",
       "      <td>Contract_Two year</td>\n",
       "      <td>-0.327139</td>\n",
       "    </tr>\n",
       "    <tr>\n",
       "      <th>7</th>\n",
       "      <td>MonthlyCharges</td>\n",
       "      <td>-0.714306</td>\n",
       "    </tr>\n",
       "    <tr>\n",
       "      <th>4</th>\n",
       "      <td>tenure</td>\n",
       "      <td>-1.281221</td>\n",
       "    </tr>\n",
       "  </tbody>\n",
       "</table>\n",
       "</div>"
      ],
      "text/plain": [
       "                                   features      coef\n",
       "8                              TotalCharges  0.503391\n",
       "13              InternetService_Fiber optic  0.385140\n",
       "33                  Contract_Month-to-month  0.308045\n",
       "32                      StreamingMovies_Yes  0.166882\n",
       "29                          StreamingTV_Yes  0.155342\n",
       "6                          PaperlessBilling  0.150781\n",
       "15                        OnlineSecurity_No  0.116258\n",
       "38           PaymentMethod_Electronic check  0.105801\n",
       "24                           TechSupport_No  0.098097\n",
       "11                        MultipleLines_Yes  0.078746\n",
       "23                     DeviceProtection_Yes  0.057524\n",
       "18                          OnlineBackup_No  0.040878\n",
       "20                         OnlineBackup_Yes  0.040417\n",
       "1                             SeniorCitizen  0.040327\n",
       "21                      DeviceProtection_No  0.024318\n",
       "2                                   Partner  0.009601\n",
       "10           MultipleLines_No phone service  0.000508\n",
       "36  PaymentMethod_Bank transfer (automatic) -0.000331\n",
       "5                              PhoneService -0.000508\n",
       "0                                    gender -0.004193\n",
       "26                          TechSupport_Yes -0.020963\n",
       "34                        Contract_One year -0.032005\n",
       "17                       OnlineSecurity_Yes -0.041074\n",
       "3                                Dependents -0.045924\n",
       "39               PaymentMethod_Mailed check -0.059134\n",
       "37    PaymentMethod_Credit card (automatic) -0.060665\n",
       "27                           StreamingTV_No -0.074007\n",
       "9                          MultipleLines_No -0.078143\n",
       "30                       StreamingMovies_No -0.085503\n",
       "28          StreamingTV_No internet service -0.096125\n",
       "31      StreamingMovies_No internet service -0.096125\n",
       "25          TechSupport_No internet service -0.096125\n",
       "14                       InternetService_No -0.096125\n",
       "16       OnlineSecurity_No internet service -0.096125\n",
       "22     DeviceProtection_No internet service -0.096125\n",
       "19         OnlineBackup_No internet service -0.096125\n",
       "12                      InternetService_DSL -0.319390\n",
       "35                        Contract_Two year -0.327139\n",
       "7                            MonthlyCharges -0.714306\n",
       "4                                    tenure -1.281221"
      ]
     },
     "execution_count": 39,
     "metadata": {},
     "output_type": "execute_result"
    }
   ],
   "source": [
    "# Analyzing Coefficients\n",
    "feature_importances = pd.concat([\n",
    "pd.DataFrame(dataset.drop(columns = 'customerID').\n",
    "columns, columns = [\"features\"]),\n",
    "pd.DataFrame(np.transpose(classifier.coef_), \n",
    "columns = [\"coef\"])],axis = 1)\n",
    "feature_importances.sort_values(\"coef\", ascending = False)"
   ]
  },
  {
   "cell_type": "markdown",
   "metadata": {},
   "source": [
    "**Section E: Model Improvement**<br/>\n",
    "L'amélioration du modèle consiste essentiellement à choisir les meilleurs paramètres pour le modèle d'apprentissage automatique que nous avons mis au point. Il existe deux types de paramètres dans tout modèle d'apprentissage automatique - le premier type est le type de paramètres que le modèle apprend ; les valeurs optimales trouvées automatiquement en exécutant le modèle. Le deuxième type de paramètres est celui que l'utilisateur peut choisir lors de l'exécution du modèle. Ces paramètres sont appelés les hyperparamètres ; un ensemble de valeurs configurables externes à un modèle qui ne peut pas être déterminé par les données, et que nous essayons d'optimiser grâce à des techniques de réglage des paramètres comme la recherche aléatoire ou la recherche par grille."
   ]
  },
  {
   "cell_type": "code",
   "execution_count": 41,
   "metadata": {},
   "outputs": [
    {
     "name": "stdout",
     "output_type": "stream",
     "text": [
      "Took 1.52 seconds\n"
     ]
    },
    {
     "name": "stderr",
     "output_type": "stream",
     "text": [
      "C:\\Users\\Msi\\Anaconda3\\envs\\ING\\lib\\site-packages\\sklearn\\model_selection\\_search.py:925: UserWarning: One or more of the test scores are non-finite: [       nan 0.67442692        nan 0.7132733         nan 0.72032147\n",
      "        nan 0.72125196        nan 0.72168603        nan 0.72214014\n",
      "        nan 0.72201936]\n",
      "  category=UserWarning\n"
     ]
    },
    {
     "data": {
      "text/plain": [
       "(0.7221401350854547, {'C': 100, 'penalty': 'l2'})"
      ]
     },
     "execution_count": 41,
     "metadata": {},
     "output_type": "execute_result"
    }
   ],
   "source": [
    "# Round 1:\n",
    " \n",
    "# Select Regularization Method   \n",
    "import time\n",
    "penalty = ['l1', 'l2']\n",
    "# Create regularization hyperparameter space\n",
    "C = [0.001, 0.01, 0.1, 1, 10, 100, 1000]\n",
    "# Combine Parameters\n",
    "parameters = dict(C=C, penalty=penalty)\n",
    "lr_classifier = GridSearchCV(estimator = classifier,\n",
    "                           param_grid = parameters,\n",
    "                           scoring = \"balanced_accuracy\",\n",
    "                           cv = 10,\n",
    "                           n_jobs = -1)\n",
    "t0 = time.time()\n",
    "lr_classifier  = lr_classifier .fit(X_train, y_train)\n",
    "t1 = time.time()\n",
    "print(\"Took %0.2f seconds\" % (t1 - t0))\n",
    "lr_best_accuracy = lr_classifier.best_score_\n",
    "lr_best_parameters = lr_classifier.best_params_\n",
    "lr_best_accuracy, lr_best_parameters"
   ]
  },
  {
   "cell_type": "markdown",
   "metadata": {},
   "source": [
    "**Section F: Future Predictions** <br/>\n",
    "\n"
   ]
  },
  {
   "cell_type": "code",
   "execution_count": 42,
   "metadata": {},
   "outputs": [
    {
     "name": "stdout",
     "output_type": "stream",
     "text": [
      "      customerID  Churn  predictions  propensity_to_churn(%) Ranking\n",
      "6178  3719-TDVQB      0            0                    0.85      10\n",
      "1789  2586-CWXVV      0            0                    9.80       7\n",
      "3695  6088-BXMRG      0            1                   60.57       2\n",
      "1179  5461-QKNTN      0            0                   40.09       3\n",
      "2963  4707-YNOQA      0            0                    4.23       8\n",
      "...          ...    ...          ...                     ...     ...\n",
      "1730  3877-JRJIP      1            1                   59.98       2\n",
      "5405  4097-YODCF      0            0                   31.95       4\n",
      "2508  9405-GPBBG      0            0                    7.76       7\n",
      "6216  7162-WPHPM      0            0                    0.66      10\n",
      "6672  2346-CZYIL      0            0                    1.89       9\n",
      "\n",
      "[1409 rows x 5 columns]\n"
     ]
    }
   ],
   "source": [
    "lr_classifier = LogisticRegression(random_state = 0, penalty = 'l2')\n",
    "lr_classifier.fit(X_train, y_train)\n",
    "# Predict the Test set results\n",
    "y_pred = lr_classifier.predict(X_test)\n",
    "#probability score\n",
    "y_pred_probs = lr_classifier.predict_proba(X_test)\n",
    "y_pred_probs  = y_pred_probs [:, 1]\n",
    "\n",
    "final_results = pd.concat([test_identity, y_test], axis = 1).dropna()\n",
    "final_results['predictions'] = y_pred\n",
    "final_results[\"propensity_to_churn(%)\"] = y_pred_probs\n",
    "final_results[\"propensity_to_churn(%)\"] = final_results[\"propensity_to_churn(%)\"]*100\n",
    "final_results[\"propensity_to_churn(%)\"]=final_results[\"propensity_to_churn(%)\"].round(2)\n",
    "final_results = final_results[['customerID', 'Churn', 'predictions', 'propensity_to_churn(%)']]\n",
    "final_results ['Ranking'] = pd.qcut(final_results['propensity_to_churn(%)'].rank(method = 'first'),10,labels=range(10,0,-1))\n",
    "print (final_results)"
   ]
  },
  {
   "cell_type": "code",
   "execution_count": null,
   "metadata": {},
   "outputs": [],
   "source": []
  }
 ],
 "metadata": {
  "kernelspec": {
   "display_name": "ING",
   "language": "python",
   "name": "ing"
  },
  "language_info": {
   "codemirror_mode": {
    "name": "ipython",
    "version": 3
   },
   "file_extension": ".py",
   "mimetype": "text/x-python",
   "name": "python",
   "nbconvert_exporter": "python",
   "pygments_lexer": "ipython3",
   "version": "3.6.13"
  }
 },
 "nbformat": 4,
 "nbformat_minor": 2
}
